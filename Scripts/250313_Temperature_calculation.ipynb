{
  "metadata": {
    "kernelspec": {
      "name": "python",
      "display_name": "Python (Pyodide)",
      "language": "python"
    },
    "language_info": {
      "codemirror_mode": {
        "name": "python",
        "version": 3
      },
      "file_extension": ".py",
      "mimetype": "text/x-python",
      "name": "python",
      "nbconvert_exporter": "python",
      "pygments_lexer": "ipython3",
      "version": "3.8"
    }
  },
  "nbformat_minor": 5,
  "nbformat": 4,
  "cells": [
    {
      "id": "74e823ec-5fdc-4102-a979-e02e36be0195",
      "cell_type": "markdown",
      "source": "# Contact information",
      "metadata": {}
    },
    {
      "id": "6bb7c375-f88c-4cb9-9af0-fc65b5e67c8d",
      "cell_type": "markdown",
      "source": "Author: Franz Kafka, Prager Strasse 3, Prag\n\nemail: franz.kafka@me.cz\n\nDate: 13.3.1925\n",
      "metadata": {}
    },
    {
      "id": "6498705b-5413-4651-9a1f-9446e3d90f47",
      "cell_type": "markdown",
      "source": "# Analysis",
      "metadata": {}
    },
    {
      "id": "fce81931-8f89-49d5-b645-4afe88da04f3",
      "cell_type": "markdown",
      "source": "We analyzed our data, and then we published our publication\n\n* Item 1\n* Item 2\n* Item 3",
      "metadata": {}
    },
    {
      "id": "ca51a8e2-61b6-43d2-8d63-f09532d92e70",
      "cell_type": "code",
      "source": "temperature=36*25",
      "metadata": {
        "trusted": true
      },
      "outputs": [],
      "execution_count": 1
    },
    {
      "id": "67533348-90aa-46dc-bc9f-5294cc30a4d5",
      "cell_type": "code",
      "source": "temperature",
      "metadata": {
        "trusted": true
      },
      "outputs": [
        {
          "execution_count": 2,
          "output_type": "execute_result",
          "data": {
            "text/plain": "900"
          },
          "metadata": {}
        }
      ],
      "execution_count": 2
    }
  ]
}